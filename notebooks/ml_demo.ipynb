{
 "cells": [
  {
   "cell_type": "markdown",
   "id": "04f59330",
   "metadata": {},
   "source": [
    "# PySpark ML Demo with HDFS and Local CSV"
   ]
  },
  {
   "cell_type": "code",
   "execution_count": null,
   "id": "fc95b7f8",
   "metadata": {},
   "outputs": [],
   "source": [
    "from pyspark.sql import SparkSession\n",
    "from pyspark.ml.feature import VectorAssembler\n",
    "from pyspark.ml.classification import LogisticRegression\n",
    "from pyspark.ml.evaluation import BinaryClassificationEvaluator\n",
    "\n",
    "spark = SparkSession.builder.appName(\"StudentMLDemo\").getOrCreate()\n",
    "\n",
    "# Local read\n",
    "df_local = spark.read.csv(\"/home/jovyan/work/student_data.csv\", header=True, inferSchema=True)\n",
    "print(\"✅ Local CSV Read:\")\n",
    "df_local.show()\n",
    "\n",
    "# HDFS read\n",
    "df_hdfs = spark.read.csv(\"hdfs://namenode:8020/data/student_data.csv\", header=True, inferSchema=True)\n",
    "print(\"✅ HDFS CSV Read:\")\n",
    "df_hdfs.show()\n",
    "\n",
    "# Choose one to proceed\n",
    "df = df_local  # or df_hdfs\n",
    "\n",
    "vec = VectorAssembler(inputCols=[\"age\", \"score\"], outputCol=\"features\")\n",
    "df = vec.transform(df)\n",
    "\n",
    "train_data, test_data = df.randomSplit([0.7, 0.3], seed=42)\n",
    "\n",
    "lr = LogisticRegression(featuresCol=\"features\", labelCol=\"label\")\n",
    "model = lr.fit(train_data)\n",
    "\n",
    "predictions = model.transform(test_data)\n",
    "evaluator = BinaryClassificationEvaluator(labelCol=\"label\")\n",
    "auc = evaluator.evaluate(predictions)\n",
    "\n",
    "print(\"Test AUC:\", auc)\n",
    "predictions.select(\"features\", \"label\", \"prediction\", \"probability\").show()\n"
   ]
  }
 ],
 "metadata": {
  "kernelspec": {
   "display_name": "Python 3 (ipykernel)",
   "language": "python",
   "name": "python3"
  },
  "language_info": {
   "codemirror_mode": {
    "name": "ipython",
    "version": 3
   },
   "file_extension": ".py",
   "mimetype": "text/x-python",
   "name": "python",
   "nbconvert_exporter": "python",
   "pygments_lexer": "ipython3",
   "version": "3.11.6"
  }
 },
 "nbformat": 4,
 "nbformat_minor": 5
}

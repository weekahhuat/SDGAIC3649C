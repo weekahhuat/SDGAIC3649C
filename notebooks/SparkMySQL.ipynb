{
 "cells": [
  {
   "cell_type": "code",
   "execution_count": 1,
   "id": "c7c343b7-d265-42ec-9151-d2cd1ad3d8dc",
   "metadata": {},
   "outputs": [],
   "source": [
    "from pyspark.sql import SparkSession\n",
    "\n",
    "# Create SparkSession\n",
    "spark = SparkSession.builder \\\n",
    "    .appName(\"Read Student Table from MySQL\") \\\n",
    "    .config(\"spark.jars\", \"/opt/jars/mysql-connector-j-8.0.33.jar\") \\\n",
    "    .getOrCreate()\n",
    "\n",
    "# MySQL connection parameters\n",
    "mysql_url = \"jdbc:mysql://mysql:3306/rp_schema\"\n",
    "mysql_properties = {\n",
    "    \"user\": \"rpLesson15\",\n",
    "    \"password\": \"Republic$01\",\n",
    "    \"driver\": \"com.mysql.cj.jdbc.Driver\"\n",
    "}\n",
    "\n"
   ]
  },
  {
   "cell_type": "code",
   "execution_count": 2,
   "id": "a37cd3ce-9f2e-4988-8f99-b54ee65f4a58",
   "metadata": {},
   "outputs": [
    {
     "name": "stdout",
     "output_type": "stream",
     "text": [
      "OK\n"
     ]
    }
   ],
   "source": [
    "# Read the 'student' table from MySQL\n",
    "df1 = spark.read.jdbc(\n",
    "    url=mysql_url,\n",
    "    table=\"student\",\n",
    "    properties=mysql_properties\n",
    ")\n",
    "\n",
    "print(\"OK\")"
   ]
  },
  {
   "cell_type": "code",
   "execution_count": 3,
   "id": "03a0e839-d61d-4e40-af0d-f896ad986b74",
   "metadata": {},
   "outputs": [
    {
     "name": "stdout",
     "output_type": "stream",
     "text": [
      "root\n",
      " |-- StudentID: string (nullable = true)\n",
      " |-- MatriculationYear: string (nullable = true)\n",
      " |-- Gender: string (nullable = true)\n",
      " |-- Race: string (nullable = true)\n",
      " |-- Date_Of_Birth: date (nullable = true)\n",
      " |-- DiplomaID: integer (nullable = true)\n",
      "\n",
      "+---------+-----------------+------+-------+-------------+---------+\n",
      "|StudentID|MatriculationYear|Gender|   Race|Date_Of_Birth|DiplomaID|\n",
      "+---------+-----------------+------+-------+-------------+---------+\n",
      "|202200001|             2022|  Male| Indian|   2005-07-08|      221|\n",
      "|202200002|             2022|  Male|Chinese|   2005-03-29|      236|\n",
      "|202200003|             2022|  Male|Chinese|   2005-12-10|      230|\n",
      "|202200004|             2022|  Male|Chinese|   2005-11-10|      222|\n",
      "|202200005|             2022|  Male|Chinese|   2005-06-19|      228|\n",
      "|202200006|             2022|Female|Chinese|   2005-02-20|      203|\n",
      "|202200007|             2022|Female|Chinese|   2005-10-01|      204|\n",
      "|202200008|             2022|Female|Chinese|   2005-12-12|      202|\n",
      "|202200009|             2022|Female|Chinese|   2005-09-21|      235|\n",
      "|202200010|             2022|Female|Chinese|   2005-01-02|      206|\n",
      "+---------+-----------------+------+-------+-------------+---------+\n",
      "only showing top 10 rows\n",
      "\n"
     ]
    }
   ],
   "source": [
    "# Show schema and preview\n",
    "df1.printSchema()\n",
    "\n",
    "\n",
    "df1.show(10)\n",
    "\n",
    "# Stop Spark session\n",
    "spark.stop()\n"
   ]
  },
  {
   "cell_type": "code",
   "execution_count": null,
   "id": "bd5439ce-785d-47d1-baff-8f46bffef48e",
   "metadata": {},
   "outputs": [],
   "source": []
  },
  {
   "cell_type": "code",
   "execution_count": null,
   "id": "c171dac7-099f-4805-9165-ff0d185fc6d0",
   "metadata": {},
   "outputs": [],
   "source": []
  },
  {
   "cell_type": "code",
   "execution_count": null,
   "id": "eb758241-e7a9-44f4-a1c9-ef4708fb5274",
   "metadata": {},
   "outputs": [],
   "source": []
  },
  {
   "cell_type": "code",
   "execution_count": null,
   "id": "75b98894-ae0b-4bcd-aab1-19e9cb9e2084",
   "metadata": {},
   "outputs": [],
   "source": []
  }
 ],
 "metadata": {
  "kernelspec": {
   "display_name": "Python 3 (ipykernel)",
   "language": "python",
   "name": "python3"
  },
  "language_info": {
   "codemirror_mode": {
    "name": "ipython",
    "version": 3
   },
   "file_extension": ".py",
   "mimetype": "text/x-python",
   "name": "python",
   "nbconvert_exporter": "python",
   "pygments_lexer": "ipython3",
   "version": "3.11.5"
  }
 },
 "nbformat": 4,
 "nbformat_minor": 5
}

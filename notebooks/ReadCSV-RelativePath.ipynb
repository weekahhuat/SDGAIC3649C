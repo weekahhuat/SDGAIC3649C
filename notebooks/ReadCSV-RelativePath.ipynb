{
 "cells": [
  {
   "cell_type": "code",
   "execution_count": null,
   "id": "c4000ff9-dcb0-419d-84c9-a00bed0cd916",
   "metadata": {},
   "outputs": [],
   "source": [
    "import pandas as pd\n",
    "from pathlib import Path\n",
    "\n",
    "# Define the relative path to the CSV file (relative to the notebook location)\n",
    "relative_path = Path(\"data/student.csv\")\n",
    "\n",
    "# Check if the file exists before reading\n",
    "if relative_path.exists():\n",
    "    df = pd.read_csv(relative_path)\n",
    "    print(\"CSV file loaded successfully.\")\n",
    "    display(df.head())  # Show the first few rows\n",
    "else:\n",
    "    print(f\"File not found: {relative_path.resolve()}\")"
   ]
  }
 ],
 "metadata": {
  "kernelspec": {
   "display_name": "Python 3 (ipykernel)",
   "language": "python",
   "name": "python3"
  },
  "language_info": {
   "codemirror_mode": {
    "name": "ipython",
    "version": 3
   },
   "file_extension": ".py",
   "mimetype": "text/x-python",
   "name": "python",
   "nbconvert_exporter": "python",
   "pygments_lexer": "ipython3",
   "version": "3.11.5"
  }
 },
 "nbformat": 4,
 "nbformat_minor": 5
}

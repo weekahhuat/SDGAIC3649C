{
 "cells": [
  {
   "cell_type": "markdown",
   "id": "09b7f70e",
   "metadata": {},
   "source": [
    "# PySpark ML with Hardcoded Data + Confusion Matrix"
   ]
  },
  {
   "cell_type": "code",
   "execution_count": null,
   "id": "1685e6cf",
   "metadata": {},
   "outputs": [],
   "source": [
    "from pyspark.sql import SparkSession\n",
    "from pyspark.ml.feature import VectorAssembler\n",
    "from pyspark.ml.classification import LogisticRegression\n",
    "from pyspark.ml.evaluation import BinaryClassificationEvaluator\n",
    "from pyspark.sql.functions import col\n",
    "\n",
    "spark = SparkSession.builder.appName(\"HardcodedMLWithConfusion\").getOrCreate()\n",
    "\n",
    "# Hardcoded dataset\n",
    "data = spark.createDataFrame([\n",
    "    (0, 22, 56),\n",
    "    (1, 25, 78),\n",
    "    (0, 23, 60),\n",
    "    (1, 28, 85),\n",
    "    (1, 30, 90),\n",
    "    (0, 21, 52)\n",
    "], [\"label\", \"age\", \"score\"])\n",
    "\n",
    "# Vector assembler\n",
    "vec = VectorAssembler(inputCols=[\"age\", \"score\"], outputCol=\"features\")\n",
    "data = vec.transform(data)\n",
    "\n",
    "# Train/test split\n",
    "train_data, test_data = data.randomSplit([0.7, 0.3], seed=42)\n",
    "\n",
    "# Train logistic regression model\n",
    "lr = LogisticRegression(featuresCol=\"features\", labelCol=\"label\")\n",
    "model = lr.fit(train_data)\n",
    "\n",
    "# Predict\n",
    "predictions = model.transform(test_data)\n",
    "predictions.select(\"features\", \"label\", \"prediction\", \"probability\").show()\n",
    "\n",
    "# AUC evaluation\n",
    "evaluator = BinaryClassificationEvaluator(labelCol=\"label\")\n",
    "auc = evaluator.evaluate(predictions)\n",
    "print(\"Test AUC:\", auc)\n",
    "\n",
    "# Confusion matrix\n",
    "confusion = predictions.groupBy(\"label\", \"prediction\").count().orderBy(\"label\", \"prediction\")\n",
    "confusion.show()\n"
   ]
  }
 ],
 "metadata": {},
 "nbformat": 4,
 "nbformat_minor": 5
}
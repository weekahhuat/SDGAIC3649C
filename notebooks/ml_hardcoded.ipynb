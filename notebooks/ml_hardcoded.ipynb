{
 "cells": [
  {
   "cell_type": "markdown",
   "id": "02e6a318",
   "metadata": {},
   "source": [
    "# PySpark ML Demo with Hardcoded Data"
   ]
  },
  {
   "cell_type": "code",
   "execution_count": null,
   "id": "b6dc791c",
   "metadata": {},
   "outputs": [],
   "source": [
    "from pyspark.sql import SparkSession\n",
    "from pyspark.ml.feature import VectorAssembler\n",
    "from pyspark.ml.classification import LogisticRegression\n",
    "from pyspark.ml.evaluation import BinaryClassificationEvaluator\n",
    "\n",
    "spark = SparkSession.builder.appName(\"HardcodedMLDemo\").getOrCreate()\n",
    "\n",
    "# Hardcoded Data\n",
    "data = spark.createDataFrame([\n",
    "    (0, 22, 56),\n",
    "    (1, 25, 78),\n",
    "    (0, 23, 60),\n",
    "    (1, 28, 85),\n",
    "    (1, 30, 90),\n",
    "    (0, 21, 52)\n",
    "], [\"label\", \"age\", \"score\"])\n",
    "\n",
    "# Feature vector\n",
    "vec = VectorAssembler(inputCols=[\"age\", \"score\"], outputCol=\"features\")\n",
    "data = vec.transform(data)\n",
    "\n",
    "# Train-test split\n",
    "train_data, test_data = data.randomSplit([0.7, 0.3], seed=42)\n",
    "\n",
    "# Model\n",
    "lr = LogisticRegression(featuresCol=\"features\", labelCol=\"label\")\n",
    "model = lr.fit(train_data)\n",
    "\n",
    "# Predict and evaluate\n",
    "predictions = model.transform(test_data)\n",
    "evaluator = BinaryClassificationEvaluator(labelCol=\"label\")\n",
    "auc = evaluator.evaluate(predictions)\n",
    "\n",
    "print(\"Test AUC:\", auc)\n",
    "predictions.select(\"features\", \"label\", \"prediction\", \"probability\").show()\n"
   ]
  }
 ],
 "metadata": {},
 "nbformat": 4,
 "nbformat_minor": 5
}